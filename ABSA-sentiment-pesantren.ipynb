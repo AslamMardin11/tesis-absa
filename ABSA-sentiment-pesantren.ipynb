{
 "cells": [
  {
   "cell_type": "code",
   "execution_count": 1,
   "id": "4ba76226",
   "metadata": {},
   "outputs": [
    {
     "name": "stdout",
     "output_type": "stream",
     "text": [
      "berhasil mengimport library\n"
     ]
    }
   ],
   "source": [
    "# Import Library\n",
    "# !pip install pandas numpy gensim tensorflow scikit-learn Sastrawi matplotlib\n",
    "\n",
    "import pandas as pd\n",
    "import numpy as np\n",
    "import re\n",
    "from Sastrawi.StopWordRemover.StopWordRemoverFactory import StopWordRemoverFactory\n",
    "from Sastrawi.Stemmer.StemmerFactory import StemmerFactory\n",
    "from gensim.models import Word2Vec\n",
    "from sklearn.model_selection import train_test_split\n",
    "from sklearn.utils import resample\n",
    "from tensorflow.keras.preprocessing.text import Tokenizer\n",
    "from tensorflow.keras.preprocessing.sequence import pad_sequences\n",
    "from tensorflow.keras.models import Sequential\n",
    "from tensorflow.keras.layers import Embedding, LSTM, Dense, SpatialDropout1D\n",
    "from tensorflow.keras.callbacks import EarlyStopping\n",
    "from sklearn.metrics import classification_report, confusion_matrix\n",
    "import matplotlib.pyplot as plt\n",
    "\n",
    "print(\"berhasil mengimport library\")"
   ]
  },
  {
   "cell_type": "code",
   "execution_count": 4,
   "id": "21af2c15",
   "metadata": {},
   "outputs": [
    {
     "name": "stdout",
     "output_type": "stream",
     "text": [
      "Contoh 5 data pertama:\n",
      "   No                                            Kalimat                Aspek  \\\n",
      "0   1  Pengajar memiliki kompetensi memberikan perhat...        Kualitas Guru   \n",
      "1   2  Pengalaman guru masih perlu ditingkatkan. Meng...        Kualitas Guru   \n",
      "2   3  Beberapa guru masih perlu ditingkatkan. Mengur...        Kualitas Guru   \n",
      "3   4  Prestasi santri meraih prestasi akademik dan n...             Prestasi   \n",
      "4   5  Proses belajar mengajar sangat efektif dan men...  Kualitas Pengajaran   \n",
      "\n",
      "  Sentimen             Pesantren  \n",
      "0  Positif  As-Salafiyah Parappe  \n",
      "1  Negatif    Syekh Hasan Yamani  \n",
      "2  Negatif  As-Salafiyah Parappe  \n",
      "3  Positif            Al-Ikhlash  \n",
      "4  Positif            Al-Ikhlash  \n",
      "\n",
      "Distribusi Sentimen:\n",
      "Sentimen\n",
      "Positif    108\n",
      "Negatif    108\n",
      "Netral     108\n",
      "Name: count, dtype: int64\n"
     ]
    }
   ],
   "source": [
    "# Load dataset\n",
    "data = pd.read_excel(\"2000_Kalimat_Kinerja_Pesantren_Unik.xlsx\")\n",
    "print(\"Contoh 5 data pertama:\")\n",
    "print(data.head())\n",
    "print(\"\\nDistribusi Sentimen:\")\n",
    "print(data[\"Sentimen\"].value_counts())"
   ]
  },
  {
   "cell_type": "code",
   "execution_count": 5,
   "id": "5a4ef35d",
   "metadata": {},
   "outputs": [
    {
     "name": "stdout",
     "output_type": "stream",
     "text": [
      "\n",
      "Contoh teks setelah cleaning:\n",
      "                                             Kalimat  \\\n",
      "0  Pengajar memiliki kompetensi memberikan perhat...   \n",
      "1  Pengalaman guru masih perlu ditingkatkan. Meng...   \n",
      "2  Beberapa guru masih perlu ditingkatkan. Mengur...   \n",
      "3  Prestasi santri meraih prestasi akademik dan n...   \n",
      "4  Proses belajar mengajar sangat efektif dan men...   \n",
      "\n",
      "                                        Cleaned_Text  \n",
      "0  ajar milik kompetensi beri perhati penuh santr...  \n",
      "1       alam guru perlu tingkat kurang kualitas ajar  \n",
      "2   beberapa guru perlu tingkat kurang kualitas ajar  \n",
      "3  prestasi santri raih prestasi akademik nonakad...  \n",
      "4  proses ajar ajar sangat efektif tarik ajar lan...  \n"
     ]
    }
   ],
   "source": [
    "# text processing\n",
    "# Fungsi cleaning teks\n",
    "def clean_text(text):\n",
    "    text = re.sub(r'http\\S+|www\\S+|@\\w+|#\\w+', '', text)  # Hapus URL, mention, hashtag\n",
    "    text = re.sub(r'[^\\w\\s]', '', text)  # Hapus tanda baca\n",
    "    text = text.lower()  # Case folding\n",
    "    \n",
    "    # Stopword removal\n",
    "    factory = StopWordRemoverFactory()\n",
    "    stopword = factory.create_stop_word_remover()\n",
    "    text = stopword.remove(text)\n",
    "    \n",
    "    # Stemming\n",
    "    stemmer = StemmerFactory().create_stemmer()\n",
    "    text = stemmer.stem(text)\n",
    "    return text\n",
    "\n",
    "# Apply cleaning\n",
    "data[\"Cleaned_Text\"] = data[\"Kalimat\"].apply(clean_text)\n",
    "print(\"\\nContoh teks setelah cleaning:\")\n",
    "print(data[[\"Kalimat\", \"Cleaned_Text\"]].head())"
   ]
  },
  {
   "cell_type": "code",
   "execution_count": 6,
   "id": "1d06806d",
   "metadata": {},
   "outputs": [
    {
     "name": "stdout",
     "output_type": "stream",
     "text": [
      "\n",
      "Jumlah data training dan testing:\n",
      "Training: 259, Testing: 65\n",
      "Distribusi label training:\n",
      "Sentimen_Encoded\n",
      "0    87\n",
      "2    86\n",
      "1    86\n",
      "Name: count, dtype: int64\n"
     ]
    }
   ],
   "source": [
    "# pembagian train data dan testing data\n",
    "\n",
    "# Encoding sentimen (Negatif:0, Netral:1, Positif:2)\n",
    "sentimen_map = {\"Negatif\": 0, \"Netral\": 1, \"Positif\": 2}\n",
    "data[\"Sentimen_Encoded\"] = data[\"Sentimen\"].map(sentimen_map)\n",
    "\n",
    "# Split data (80% training, 20% testing)\n",
    "X_train, X_test, y_train, y_test = train_test_split(\n",
    "    data[\"Cleaned_Text\"], \n",
    "    data[\"Sentimen_Encoded\"], \n",
    "    test_size=0.2, \n",
    "    stratify=data[\"Sentimen_Encoded\"],\n",
    "    random_state=42\n",
    ")\n",
    "print(\"\\nJumlah data training dan testing:\")\n",
    "print(f\"Training: {len(X_train)}, Testing: {len(X_test)}\")\n",
    "print(\"Distribusi label training:\")\n",
    "print(y_train.value_counts())"
   ]
  },
  {
   "cell_type": "code",
   "execution_count": 7,
   "id": "7c29a9b3",
   "metadata": {},
   "outputs": [
    {
     "name": "stdout",
     "output_type": "stream",
     "text": [
      "\n",
      "Distribusi label setelah oversampling:\n",
      "label\n",
      "1    86\n",
      "2    86\n",
      "0    86\n",
      "Name: count, dtype: int64\n"
     ]
    }
   ],
   "source": [
    "# oversampling pada vector\n",
    "# Gabungkan X_train dan y_train\n",
    "train_data = pd.DataFrame({\"text\": X_train, \"label\": y_train})\n",
    "\n",
    "# Pisahkan per kelas\n",
    "df_netral = train_data[train_data[\"label\"] == 1]\n",
    "df_positif = train_data[train_data[\"label\"] == 2]\n",
    "df_negatif = train_data[train_data[\"label\"] == 0]\n",
    "\n",
    "# Oversampling positif & negatif\n",
    "df_positif_oversampled = resample(df_positif, replace=True, n_samples=len(df_netral), random_state=42)\n",
    "df_negatif_oversampled = resample(df_negatif, replace=True, n_samples=len(df_netral), random_state=42)\n",
    "\n",
    "# Gabungkan kembali\n",
    "train_data_balanced = pd.concat([df_netral, df_positif_oversampled, df_negatif_oversampled])\n",
    "print(\"\\nDistribusi label setelah oversampling:\")\n",
    "print(train_data_balanced[\"label\"].value_counts())"
   ]
  }
 ],
 "metadata": {
  "kernelspec": {
   "display_name": "coba",
   "language": "python",
   "name": "python3"
  },
  "language_info": {
   "codemirror_mode": {
    "name": "ipython",
    "version": 3
   },
   "file_extension": ".py",
   "mimetype": "text/x-python",
   "name": "python",
   "nbconvert_exporter": "python",
   "pygments_lexer": "ipython3",
   "version": "3.11.0"
  }
 },
 "nbformat": 4,
 "nbformat_minor": 5
}

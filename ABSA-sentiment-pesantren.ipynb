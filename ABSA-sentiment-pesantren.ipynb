{
 "cells": [
  {
   "cell_type": "code",
   "execution_count": 21,
   "id": "4ba76226",
   "metadata": {},
   "outputs": [
    {
     "name": "stdout",
     "output_type": "stream",
     "text": [
      "berhasil mengimport library\n"
     ]
    }
   ],
   "source": [
    "# Import Library\n",
    "# !pip install pandas numpy gensim tensorflow scikit-learn Sastrawi matplotlib\n",
    "\n",
    "import pandas as pd\n",
    "import numpy as np\n",
    "import re\n",
    "from Sastrawi.StopWordRemover.StopWordRemoverFactory import StopWordRemoverFactory\n",
    "from Sastrawi.Stemmer.StemmerFactory import StemmerFactory\n",
    "from gensim.models import Word2Vec\n",
    "from sklearn.model_selection import train_test_split\n",
    "from sklearn.utils import resample\n",
    "from tensorflow.keras.preprocessing.text import Tokenizer\n",
    "from tensorflow.keras.preprocessing.sequence import pad_sequences\n",
    "from tensorflow.keras.models import Sequential\n",
    "from tensorflow.keras.layers import Embedding, LSTM, Dense, SpatialDropout1D\n",
    "from tensorflow.keras.callbacks import EarlyStopping\n",
    "from sklearn.metrics import classification_report, confusion_matrix\n",
    "import matplotlib.pyplot as plt\n",
    "\n",
    "print(\"berhasil mengimport library\")"
   ]
  },
  {
   "cell_type": "code",
   "execution_count": 22,
   "id": "21af2c15",
   "metadata": {},
   "outputs": [
    {
     "name": "stdout",
     "output_type": "stream",
     "text": [
      "Contoh 5 data pertama:\n",
      "   No                                            Kalimat                Aspek  \\\n",
      "0   1  Pengajar memiliki kompetensi memberikan perhat...        Kualitas Guru   \n",
      "1   2  Pengalaman guru masih perlu ditingkatkan. Meng...        Kualitas Guru   \n",
      "2   3  Beberapa guru masih perlu ditingkatkan. Mengur...        Kualitas Guru   \n",
      "3   4  Prestasi santri meraih prestasi akademik dan n...             Prestasi   \n",
      "4   5  Proses belajar mengajar sangat efektif dan men...  Kualitas Pengajaran   \n",
      "\n",
      "  Sentimen  \n",
      "0  Positif  \n",
      "1  Negatif  \n",
      "2  Negatif  \n",
      "3  Positif  \n",
      "4  Positif  \n",
      "\n",
      "Distribusi Sentimen:\n",
      "Sentimen\n",
      "Positif    108\n",
      "Negatif    108\n",
      "Netral     108\n",
      "Name: count, dtype: int64\n"
     ]
    }
   ],
   "source": [
    "# Load dataset\n",
    "data = pd.read_excel(\"2000_Kalimat_Kinerja_Pesantren_Unik.xlsx\")\n",
    "print(\"Contoh 5 data pertama:\")\n",
    "print(data.head())\n",
    "print(\"\\nDistribusi Sentimen:\")\n",
    "print(data[\"Sentimen\"].value_counts())"
   ]
  },
  {
   "cell_type": "code",
   "execution_count": 23,
   "id": "5a4ef35d",
   "metadata": {},
   "outputs": [
    {
     "name": "stdout",
     "output_type": "stream",
     "text": [
      "\n",
      "Contoh teks setelah cleaning:\n",
      "                                             Kalimat  \\\n",
      "0  Pengajar memiliki kompetensi memberikan perhat...   \n",
      "1  Pengalaman guru masih perlu ditingkatkan. Meng...   \n",
      "2  Beberapa guru masih perlu ditingkatkan. Mengur...   \n",
      "3  Prestasi santri meraih prestasi akademik dan n...   \n",
      "4  Proses belajar mengajar sangat efektif dan men...   \n",
      "\n",
      "                                        Cleaned_Text  \n",
      "0  ajar milik kompetensi beri perhati penuh santr...  \n",
      "1       alam guru perlu tingkat kurang kualitas ajar  \n",
      "2   beberapa guru perlu tingkat kurang kualitas ajar  \n",
      "3  prestasi santri raih prestasi akademik nonakad...  \n",
      "4  proses ajar ajar sangat efektif tarik ajar lan...  \n"
     ]
    }
   ],
   "source": [
    "# text processing\n",
    "# Fungsi cleaning teks\n",
    "def clean_text(text):\n",
    "    text = re.sub(r'http\\S+|www\\S+|@\\w+|#\\w+', '', text)  # Hapus URL, mention, hashtag\n",
    "    text = re.sub(r'[^\\w\\s]', '', text)  # Hapus tanda baca\n",
    "    text = text.lower()  # Case folding\n",
    "    \n",
    "    # Stopword removal\n",
    "    factory = StopWordRemoverFactory()\n",
    "    stopword = factory.create_stop_word_remover()\n",
    "    text = stopword.remove(text)\n",
    "    \n",
    "    # Stemming\n",
    "    stemmer = StemmerFactory().create_stemmer()\n",
    "    text = stemmer.stem(text)\n",
    "    return text\n",
    "\n",
    "# Apply cleaning\n",
    "data[\"Cleaned_Text\"] = data[\"Kalimat\"].apply(clean_text)\n",
    "print(\"\\nContoh teks setelah cleaning:\")\n",
    "print(data[[\"Kalimat\", \"Cleaned_Text\"]].head())"
   ]
  },
  {
   "cell_type": "code",
   "execution_count": 24,
   "id": "1d06806d",
   "metadata": {},
   "outputs": [
    {
     "name": "stdout",
     "output_type": "stream",
     "text": [
      "\n",
      "Jumlah data training dan testing:\n",
      "Training: 259, Testing: 65\n",
      "Distribusi label training:\n",
      "Sentimen_Encoded\n",
      "0    87\n",
      "2    86\n",
      "1    86\n",
      "Name: count, dtype: int64\n"
     ]
    }
   ],
   "source": [
    "# pembagian train data dan testing data\n",
    "\n",
    "# Encoding sentimen (Negatif:0, Netral:1, Positif:2)\n",
    "sentimen_map = {\"Negatif\": 0, \"Netral\": 1, \"Positif\": 2}\n",
    "data[\"Sentimen_Encoded\"] = data[\"Sentimen\"].map(sentimen_map)\n",
    "\n",
    "# Split data (80% training, 20% testing)\n",
    "X_train, X_test, y_train, y_test = train_test_split(\n",
    "    data[\"Cleaned_Text\"], \n",
    "    data[\"Sentimen_Encoded\"], \n",
    "    test_size=0.2, \n",
    "    stratify=data[\"Sentimen_Encoded\"],\n",
    "    random_state=42\n",
    ")\n",
    "print(\"\\nJumlah data training dan testing:\")\n",
    "print(f\"Training: {len(X_train)}, Testing: {len(X_test)}\")\n",
    "print(\"Distribusi label training:\")\n",
    "print(y_train.value_counts())"
   ]
  },
  {
   "cell_type": "code",
   "execution_count": 25,
   "id": "7c29a9b3",
   "metadata": {},
   "outputs": [
    {
     "name": "stdout",
     "output_type": "stream",
     "text": [
      "\n",
      "Distribusi label setelah oversampling:\n",
      "label\n",
      "1    86\n",
      "2    86\n",
      "0    86\n",
      "Name: count, dtype: int64\n"
     ]
    }
   ],
   "source": [
    "# oversampling pada vector\n",
    "# Gabungkan X_train dan y_train\n",
    "train_data = pd.DataFrame({\"text\": X_train, \"label\": y_train})\n",
    "\n",
    "# Pisahkan per kelas\n",
    "df_netral = train_data[train_data[\"label\"] == 1]\n",
    "df_positif = train_data[train_data[\"label\"] == 2]\n",
    "df_negatif = train_data[train_data[\"label\"] == 0]\n",
    "\n",
    "# Oversampling positif & negatif\n",
    "df_positif_oversampled = resample(df_positif, replace=True, n_samples=len(df_netral), random_state=42)\n",
    "df_negatif_oversampled = resample(df_negatif, replace=True, n_samples=len(df_netral), random_state=42)\n",
    "\n",
    "# Gabungkan kembali\n",
    "train_data_balanced = pd.concat([df_netral, df_positif_oversampled, df_negatif_oversampled])\n",
    "print(\"\\nDistribusi label setelah oversampling:\")\n",
    "print(train_data_balanced[\"label\"].value_counts())"
   ]
  },
  {
   "cell_type": "code",
   "execution_count": 26,
   "id": "7f0ae638",
   "metadata": {},
   "outputs": [
    {
     "name": "stdout",
     "output_type": "stream",
     "text": [
      "\n",
      "Contoh hasil padding:\n",
      "[  0   0   0   0   0   0   0   0   0   0   0   0   0   0   0   0   0   0\n",
      "   0   0   0   0   0   0   0   0   0   0   0   0   0   0   0   0   0   0\n",
      "   0   0   0   0   0   0   0   0   0   0   0   0   0   0   0   0   0   0\n",
      "   0   0   0   0   0   0   0   0   0   0   0   0   0   0   0   0   0   0\n",
      "   0   0   0   0   0   0   0   0   0   0   0   0   0   0   0   0   0   0\n",
      "   0   0  51   1  12  27  15   7  49 112]\n"
     ]
    }
   ],
   "source": [
    "# tokenizing dan pading\n",
    "# Tokenisasi\n",
    "tokenizer = Tokenizer(num_words=5000)\n",
    "tokenizer.fit_on_texts(train_data_balanced[\"text\"])\n",
    "\n",
    "# Konversi teks ke sequence\n",
    "X_train_seq = tokenizer.texts_to_sequences(train_data_balanced[\"text\"])\n",
    "X_test_seq = tokenizer.texts_to_sequences(X_test)\n",
    "\n",
    "# Padding\n",
    "max_len = 100  # Panjang maksimal sequence\n",
    "X_train_padded = pad_sequences(X_train_seq, maxlen=max_len)\n",
    "X_test_padded = pad_sequences(X_test_seq, maxlen=max_len)\n",
    "\n",
    "print(\"\\nContoh hasil padding:\")\n",
    "print(X_train_padded[0])"
   ]
  },
  {
   "cell_type": "code",
   "execution_count": 27,
   "id": "24ed78cb",
   "metadata": {},
   "outputs": [
    {
     "name": "stdout",
     "output_type": "stream",
     "text": [
      "\n",
      "Summary model:\n"
     ]
    },
    {
     "name": "stderr",
     "output_type": "stream",
     "text": [
      "c:\\Users\\AL-IKHLASH LAMPOKO\\Documents\\belajar\\coba\\Lib\\site-packages\\keras\\src\\layers\\core\\embedding.py:97: UserWarning: Argument `input_length` is deprecated. Just remove it.\n",
      "  warnings.warn(\n"
     ]
    },
    {
     "data": {
      "text/html": [
       "<pre style=\"white-space:pre;overflow-x:auto;line-height:normal;font-family:Menlo,'DejaVu Sans Mono',consolas,'Courier New',monospace\"><span style=\"font-weight: bold\">Model: \"sequential_3\"</span>\n",
       "</pre>\n"
      ],
      "text/plain": [
       "\u001b[1mModel: \"sequential_3\"\u001b[0m\n"
      ]
     },
     "metadata": {},
     "output_type": "display_data"
    },
    {
     "data": {
      "text/html": [
       "<pre style=\"white-space:pre;overflow-x:auto;line-height:normal;font-family:Menlo,'DejaVu Sans Mono',consolas,'Courier New',monospace\">┏━━━━━━━━━━━━━━━━━━━━━━━━━━━━━━━━━┳━━━━━━━━━━━━━━━━━━━━━━━━┳━━━━━━━━━━━━━━━┓\n",
       "┃<span style=\"font-weight: bold\"> Layer (type)                    </span>┃<span style=\"font-weight: bold\"> Output Shape           </span>┃<span style=\"font-weight: bold\">       Param # </span>┃\n",
       "┡━━━━━━━━━━━━━━━━━━━━━━━━━━━━━━━━━╇━━━━━━━━━━━━━━━━━━━━━━━━╇━━━━━━━━━━━━━━━┩\n",
       "│ embedding_3 (<span style=\"color: #0087ff; text-decoration-color: #0087ff\">Embedding</span>)         │ ?                      │   <span style=\"color: #00af00; text-decoration-color: #00af00\">0</span> (unbuilt) │\n",
       "├─────────────────────────────────┼────────────────────────┼───────────────┤\n",
       "│ spatial_dropout1d_3             │ ?                      │             <span style=\"color: #00af00; text-decoration-color: #00af00\">0</span> │\n",
       "│ (<span style=\"color: #0087ff; text-decoration-color: #0087ff\">SpatialDropout1D</span>)              │                        │               │\n",
       "├─────────────────────────────────┼────────────────────────┼───────────────┤\n",
       "│ lstm_3 (<span style=\"color: #0087ff; text-decoration-color: #0087ff\">LSTM</span>)                   │ ?                      │   <span style=\"color: #00af00; text-decoration-color: #00af00\">0</span> (unbuilt) │\n",
       "├─────────────────────────────────┼────────────────────────┼───────────────┤\n",
       "│ dense_3 (<span style=\"color: #0087ff; text-decoration-color: #0087ff\">Dense</span>)                 │ ?                      │   <span style=\"color: #00af00; text-decoration-color: #00af00\">0</span> (unbuilt) │\n",
       "└─────────────────────────────────┴────────────────────────┴───────────────┘\n",
       "</pre>\n"
      ],
      "text/plain": [
       "┏━━━━━━━━━━━━━━━━━━━━━━━━━━━━━━━━━┳━━━━━━━━━━━━━━━━━━━━━━━━┳━━━━━━━━━━━━━━━┓\n",
       "┃\u001b[1m \u001b[0m\u001b[1mLayer (type)                   \u001b[0m\u001b[1m \u001b[0m┃\u001b[1m \u001b[0m\u001b[1mOutput Shape          \u001b[0m\u001b[1m \u001b[0m┃\u001b[1m \u001b[0m\u001b[1m      Param #\u001b[0m\u001b[1m \u001b[0m┃\n",
       "┡━━━━━━━━━━━━━━━━━━━━━━━━━━━━━━━━━╇━━━━━━━━━━━━━━━━━━━━━━━━╇━━━━━━━━━━━━━━━┩\n",
       "│ embedding_3 (\u001b[38;5;33mEmbedding\u001b[0m)         │ ?                      │   \u001b[38;5;34m0\u001b[0m (unbuilt) │\n",
       "├─────────────────────────────────┼────────────────────────┼───────────────┤\n",
       "│ spatial_dropout1d_3             │ ?                      │             \u001b[38;5;34m0\u001b[0m │\n",
       "│ (\u001b[38;5;33mSpatialDropout1D\u001b[0m)              │                        │               │\n",
       "├─────────────────────────────────┼────────────────────────┼───────────────┤\n",
       "│ lstm_3 (\u001b[38;5;33mLSTM\u001b[0m)                   │ ?                      │   \u001b[38;5;34m0\u001b[0m (unbuilt) │\n",
       "├─────────────────────────────────┼────────────────────────┼───────────────┤\n",
       "│ dense_3 (\u001b[38;5;33mDense\u001b[0m)                 │ ?                      │   \u001b[38;5;34m0\u001b[0m (unbuilt) │\n",
       "└─────────────────────────────────┴────────────────────────┴───────────────┘\n"
      ]
     },
     "metadata": {},
     "output_type": "display_data"
    },
    {
     "data": {
      "text/html": [
       "<pre style=\"white-space:pre;overflow-x:auto;line-height:normal;font-family:Menlo,'DejaVu Sans Mono',consolas,'Courier New',monospace\"><span style=\"font-weight: bold\"> Total params: </span><span style=\"color: #00af00; text-decoration-color: #00af00\">0</span> (0.00 B)\n",
       "</pre>\n"
      ],
      "text/plain": [
       "\u001b[1m Total params: \u001b[0m\u001b[38;5;34m0\u001b[0m (0.00 B)\n"
      ]
     },
     "metadata": {},
     "output_type": "display_data"
    },
    {
     "data": {
      "text/html": [
       "<pre style=\"white-space:pre;overflow-x:auto;line-height:normal;font-family:Menlo,'DejaVu Sans Mono',consolas,'Courier New',monospace\"><span style=\"font-weight: bold\"> Trainable params: </span><span style=\"color: #00af00; text-decoration-color: #00af00\">0</span> (0.00 B)\n",
       "</pre>\n"
      ],
      "text/plain": [
       "\u001b[1m Trainable params: \u001b[0m\u001b[38;5;34m0\u001b[0m (0.00 B)\n"
      ]
     },
     "metadata": {},
     "output_type": "display_data"
    },
    {
     "data": {
      "text/html": [
       "<pre style=\"white-space:pre;overflow-x:auto;line-height:normal;font-family:Menlo,'DejaVu Sans Mono',consolas,'Courier New',monospace\"><span style=\"font-weight: bold\"> Non-trainable params: </span><span style=\"color: #00af00; text-decoration-color: #00af00\">0</span> (0.00 B)\n",
       "</pre>\n"
      ],
      "text/plain": [
       "\u001b[1m Non-trainable params: \u001b[0m\u001b[38;5;34m0\u001b[0m (0.00 B)\n"
      ]
     },
     "metadata": {},
     "output_type": "display_data"
    }
   ],
   "source": [
    "# Hyperparameter optimal dari pengujian\n",
    "embed_dim = 100\n",
    "lstm_units = 198\n",
    "dropout_rate = 0.2\n",
    "\n",
    "# Model architecture\n",
    "model = Sequential([\n",
    "    Embedding(input_dim=5000, output_dim=embed_dim, input_length=max_len),\n",
    "    SpatialDropout1D(dropout_rate),\n",
    "    LSTM(lstm_units, dropout=dropout_rate),\n",
    "    Dense(3, activation='softmax')\n",
    "])\n",
    "\n",
    "model.compile(\n",
    "    optimizer='adam',\n",
    "    loss='sparse_categorical_crossentropy',\n",
    "    metrics=['accuracy']\n",
    ")\n",
    "\n",
    "print(\"\\nSummary model:\")\n",
    "model.summary()"
   ]
  },
  {
   "cell_type": "code",
   "execution_count": 28,
   "id": "30458506",
   "metadata": {},
   "outputs": [
    {
     "name": "stdout",
     "output_type": "stream",
     "text": [
      "Epoch 1/10\n",
      "\u001b[1m9/9\u001b[0m \u001b[32m━━━━━━━━━━━━━━━━━━━━\u001b[0m\u001b[37m\u001b[0m \u001b[1m3s\u001b[0m 105ms/step - accuracy: 0.3836 - loss: 1.0898 - val_accuracy: 0.6769 - val_loss: 1.0410\n",
      "Epoch 2/10\n",
      "\u001b[1m9/9\u001b[0m \u001b[32m━━━━━━━━━━━━━━━━━━━━\u001b[0m\u001b[37m\u001b[0m \u001b[1m1s\u001b[0m 61ms/step - accuracy: 0.7358 - loss: 1.0041 - val_accuracy: 0.8462 - val_loss: 0.8847\n",
      "Epoch 3/10\n",
      "\u001b[1m9/9\u001b[0m \u001b[32m━━━━━━━━━━━━━━━━━━━━\u001b[0m\u001b[37m\u001b[0m \u001b[1m1s\u001b[0m 62ms/step - accuracy: 0.9399 - loss: 0.7716 - val_accuracy: 0.8769 - val_loss: 0.5109\n",
      "Epoch 4/10\n",
      "\u001b[1m9/9\u001b[0m \u001b[32m━━━━━━━━━━━━━━━━━━━━\u001b[0m\u001b[37m\u001b[0m \u001b[1m1s\u001b[0m 63ms/step - accuracy: 0.9217 - loss: 0.4872 - val_accuracy: 1.0000 - val_loss: 0.3601\n",
      "Epoch 5/10\n",
      "\u001b[1m9/9\u001b[0m \u001b[32m━━━━━━━━━━━━━━━━━━━━\u001b[0m\u001b[37m\u001b[0m \u001b[1m1s\u001b[0m 58ms/step - accuracy: 1.0000 - loss: 0.2500 - val_accuracy: 1.0000 - val_loss: 0.2271\n",
      "Epoch 6/10\n",
      "\u001b[1m9/9\u001b[0m \u001b[32m━━━━━━━━━━━━━━━━━━━━\u001b[0m\u001b[37m\u001b[0m \u001b[1m1s\u001b[0m 58ms/step - accuracy: 1.0000 - loss: 0.1194 - val_accuracy: 1.0000 - val_loss: 0.1362\n",
      "Epoch 7/10\n",
      "\u001b[1m9/9\u001b[0m \u001b[32m━━━━━━━━━━━━━━━━━━━━\u001b[0m\u001b[37m\u001b[0m \u001b[1m1s\u001b[0m 56ms/step - accuracy: 1.0000 - loss: 0.0594 - val_accuracy: 1.0000 - val_loss: 0.0888\n",
      "Epoch 8/10\n",
      "\u001b[1m9/9\u001b[0m \u001b[32m━━━━━━━━━━━━━━━━━━━━\u001b[0m\u001b[37m\u001b[0m \u001b[1m1s\u001b[0m 57ms/step - accuracy: 1.0000 - loss: 0.0333 - val_accuracy: 1.0000 - val_loss: 0.0591\n",
      "Epoch 9/10\n",
      "\u001b[1m9/9\u001b[0m \u001b[32m━━━━━━━━━━━━━━━━━━━━\u001b[0m\u001b[37m\u001b[0m \u001b[1m1s\u001b[0m 57ms/step - accuracy: 1.0000 - loss: 0.0154 - val_accuracy: 1.0000 - val_loss: 0.0396\n",
      "Epoch 10/10\n",
      "\u001b[1m9/9\u001b[0m \u001b[32m━━━━━━━━━━━━━━━━━━━━\u001b[0m\u001b[37m\u001b[0m \u001b[1m1s\u001b[0m 57ms/step - accuracy: 1.0000 - loss: 0.0095 - val_accuracy: 1.0000 - val_loss: 0.0307\n"
     ]
    },
    {
     "data": {
      "image/png": "[encoded data removed]",
      "text/plain": [
       "<Figure size 640x480 with 1 Axes>"
      ]
     },
     "metadata": {},
     "output_type": "display_data"
    }
   ],
   "source": [
    "# Pelatihan Model   \n",
    "# Callback untuk early stopping\n",
    "early_stop = EarlyStopping(monitor='val_loss', patience=3)\n",
    "\n",
    "# Training\n",
    "history = model.fit(\n",
    "    X_train_padded, \n",
    "    train_data_balanced[\"label\"],\n",
    "    epochs=10,\n",
    "    batch_size=32,\n",
    "    validation_data=(X_test_padded, y_test),\n",
    "    callbacks=[early_stop]\n",
    ")\n",
    "\n",
    "# Plot akurasi\n",
    "plt.plot(history.history['accuracy'], label='Training Accuracy')\n",
    "plt.plot(history.history['val_accuracy'], label='Validation Accuracy')\n",
    "plt.legend()\n",
    "plt.show()"
   ]
  },
  {
   "cell_type": "code",
   "execution_count": 29,
   "id": "95a45375",
   "metadata": {},
   "outputs": [
    {
     "name": "stdout",
     "output_type": "stream",
     "text": [
      "\u001b[1m3/3\u001b[0m \u001b[32m━━━━━━━━━━━━━━━━━━━━\u001b[0m\u001b[37m\u001b[0m \u001b[1m0s\u001b[0m 88ms/step\n",
      "\n",
      "Classification Report:\n",
      "              precision    recall  f1-score   support\n",
      "\n",
      "     Negatif       1.00      1.00      1.00        21\n",
      "      Netral       1.00      1.00      1.00        22\n",
      "     Positif       1.00      1.00      1.00        22\n",
      "\n",
      "    accuracy                           1.00        65\n",
      "   macro avg       1.00      1.00      1.00        65\n",
      "weighted avg       1.00      1.00      1.00        65\n",
      "\n",
      "\n",
      "Confusion Matrix:\n",
      "[[21  0  0]\n",
      " [ 0 22  0]\n",
      " [ 0  0 22]]\n"
     ]
    }
   ],
   "source": [
    "# Evaluasi Model\n",
    "# Prediksi\n",
    "y_pred = np.argmax(model.predict(X_test_padded), axis=1)\n",
    "\n",
    "# Classification report\n",
    "print(\"\\nClassification Report:\")\n",
    "print(classification_report(y_test, y_pred, target_names=sentimen_map.keys()))\n",
    "\n",
    "# Confusion matrix\n",
    "print(\"\\nConfusion Matrix:\")\n",
    "print(confusion_matrix(y_test, y_pred))"
   ]
  },
  {
   "cell_type": "code",
   "execution_count": 30,
   "id": "12305a25",
   "metadata": {},
   "outputs": [
    {
     "name": "stderr",
     "output_type": "stream",
     "text": [
      "WARNING:absl:You are saving your model as an HDF5 file via `model.save()` or `keras.saving.save_model(model)`. This file format is considered legacy. We recommend using instead the native Keras format, e.g. `model.save('my_model.keras')` or `keras.saving.save_model(model, 'my_model.keras')`. \n"
     ]
    }
   ],
   "source": [
    "# simpan model\n",
    "model.save(\"model_lstm_pesantren.h5\")"
   ]
  },
  {
   "cell_type": "code",
   "execution_count": 33,
   "id": "0efd260c",
   "metadata": {},
   "outputs": [
    {
     "name": "stderr",
     "output_type": "stream",
     "text": [
      "WARNING:absl:Compiled the loaded model, but the compiled metrics have yet to be built. `model.compile_metrics` will be empty until you train or evaluate the model.\n"
     ]
    },
    {
     "name": "stdout",
     "output_type": "stream",
     "text": [
      "\u001b[1m1/1\u001b[0m \u001b[32m━━━━━━━━━━━━━━━━━━━━\u001b[0m\u001b[37m\u001b[0m \u001b[1m0s\u001b[0m 159ms/step\n",
      "\u001b[1m1/1\u001b[0m \u001b[32m━━━━━━━━━━━━━━━━━━━━\u001b[0m\u001b[37m\u001b[0m \u001b[1m0s\u001b[0m 33ms/step\n",
      "\u001b[1m1/1\u001b[0m \u001b[32m━━━━━━━━━━━━━━━━━━━━\u001b[0m\u001b[37m\u001b[0m \u001b[1m0s\u001b[0m 34ms/step\n",
      "\n",
      "Hasil Prediksi:\n",
      "                                           Text Sentimen                Aspek\n",
      "0  Fasilitas pesantren tidak nyaman dan bersih.  Positif            Fasilitas\n",
      "1               Pengajaran ustadz kurang jelas.  Negatif  Kualitas Pengajaran\n",
      "2    Prestasi santri di olimpiade membanggakan.  Negatif             Prestasi\n"
     ]
    }
   ],
   "source": [
    "from tensorflow.keras.models import load_model\n",
    "import numpy as np\n",
    "\n",
    "# Load model\n",
    "model = load_model(\"model_lstm_pesantren.h5\")\n",
    "def predict_aspect(text):\n",
    "    # Rule-based: Cek kata kunci untuk setiap aspek\n",
    "    aspect_keywords = {\n",
    "        \"Kualitas Pengajaran\": [\"ajar\", \"ustadz\", \"kurikulum\", \"belajar\"],\n",
    "        \"Fasilitas\": [\"asrama\", \"kamar\", \"fasilitas\", \"bersih\", \"kotor\"],\n",
    "        \"Kualitas Guru\": [\"guru\", \"ustadz\", \"pengajar\", \"sabar\"],\n",
    "        \"Prestasi\": [\"prestasi\", \"juara\", \"lomba\", \"menang\"]\n",
    "    }\n",
    "    \n",
    "    cleaned_text = clean_text(text)\n",
    "    words = cleaned_text.split()\n",
    "    \n",
    "    # Cek kata yang cocok dengan aspek\n",
    "    for aspect, keywords in aspect_keywords.items():\n",
    "        if any(keyword in words for keyword in keywords):\n",
    "            return aspect\n",
    "    return \"Umum\"  # Default jika tidak ada aspek terdeteksi\n",
    "\n",
    "def predict_text_with_aspect(text):\n",
    "    sentiment = predict_sentiment(text)\n",
    "    aspect = predict_aspect(text)\n",
    "    return {\n",
    "        \"Text\": text,\n",
    "        \"Sentimen\": sentiment,\n",
    "        \"Aspek\": aspect\n",
    "    }\n",
    "\n",
    "# Contoh penggunaan\n",
    "new_texts = [\n",
    "    \"Fasilitas pesantren tidak nyaman dan bersih.\",\n",
    "    \"Pengajaran ustadz kurang jelas.\",\n",
    "    \"Prestasi santri di olimpiade membanggakan.\"\n",
    "]\n",
    "\n",
    "# Hasil prediksi\n",
    "results = [predict_text_with_aspect(text) for text in new_texts]\n",
    "\n",
    "# Konversi ke DataFrame untuk tampilan rapi\n",
    "import pandas as pd\n",
    "results_df = pd.DataFrame(results)\n",
    "print(\"\\nHasil Prediksi:\")\n",
    "print(results_df)"
   ]
  }
 ],
 "metadata": {
  "kernelspec": {
   "display_name": "coba",
   "language": "python",
   "name": "python3"
  },
  "language_info": {
   "codemirror_mode": {
    "name": "ipython",
    "version": 3
   },
   "file_extension": ".py",
   "mimetype": "text/x-python",
   "name": "python",
   "nbconvert_exporter": "python",
   "pygments_lexer": "ipython3",
   "version": "3.11.0"
  }
 },
 "nbformat": 4,
 "nbformat_minor": 5
}

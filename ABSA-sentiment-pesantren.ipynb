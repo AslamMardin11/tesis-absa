{
 "cells": [
  {
   "cell_type": "code",
   "execution_count": 51,
   "id": "d6f647b4",
   "metadata": {},
   "outputs": [],
   "source": [
    "# %%\n",
    "import pandas as pd\n",
    "import numpy as np\n",
    "import re\n",
    "import matplotlib.pyplot as plt\n",
    "import seaborn as sns\n",
    "from Sastrawi.StopWordRemover.StopWordRemoverFactory import StopWordRemoverFactory\n",
    "from Sastrawi.Stemmer.StemmerFactory import StemmerFactory\n",
    "from sklearn.model_selection import train_test_split\n",
    "from sklearn.utils import resample\n",
    "from sklearn.metrics import classification_report, confusion_matrix\n",
    "from tensorflow.keras.preprocessing.text import Tokenizer\n",
    "from tensorflow.keras.preprocessing.sequence import pad_sequences\n",
    "from tensorflow.keras.models import Sequential\n",
    "from tensorflow.keras.layers import SimpleRNN, Dense, Embedding, SpatialDropout1D\n",
    "from tensorflow.keras.callbacks import EarlyStopping"
   ]
  },
  {
   "cell_type": "code",
   "execution_count": 52,
   "id": "f8c8290e",
   "metadata": {},
   "outputs": [
    {
     "name": "stdout",
     "output_type": "stream",
     "text": [
      "Contoh data:\n"
     ]
    },
    {
     "data": {
      "text/html": [
       "<div>\n",
       "<style scoped>\n",
       "    .dataframe tbody tr th:only-of-type {\n",
       "        vertical-align: middle;\n",
       "    }\n",
       "\n",
       "    .dataframe tbody tr th {\n",
       "        vertical-align: top;\n",
       "    }\n",
       "\n",
       "    .dataframe thead th {\n",
       "        text-align: right;\n",
       "    }\n",
       "</style>\n",
       "<table border=\"1\" class=\"dataframe\">\n",
       "  <thead>\n",
       "    <tr style=\"text-align: right;\">\n",
       "      <th></th>\n",
       "      <th>No</th>\n",
       "      <th>Kalimat</th>\n",
       "      <th>Aspek</th>\n",
       "      <th>Sentimen</th>\n",
       "    </tr>\n",
       "  </thead>\n",
       "  <tbody>\n",
       "    <tr>\n",
       "      <th>0</th>\n",
       "      <td>1</td>\n",
       "      <td>Pengajar memiliki kompetensi memberikan perhat...</td>\n",
       "      <td>Kualitas Guru</td>\n",
       "      <td>Positif</td>\n",
       "    </tr>\n",
       "    <tr>\n",
       "      <th>1</th>\n",
       "      <td>2</td>\n",
       "      <td>Pengalaman guru masih perlu ditingkatkan. Meng...</td>\n",
       "      <td>Kualitas Guru</td>\n",
       "      <td>Negatif</td>\n",
       "    </tr>\n",
       "    <tr>\n",
       "      <th>2</th>\n",
       "      <td>3</td>\n",
       "      <td>Beberapa guru masih perlu ditingkatkan. Mengur...</td>\n",
       "      <td>Kualitas Guru</td>\n",
       "      <td>Negatif</td>\n",
       "    </tr>\n",
       "  </tbody>\n",
       "</table>\n",
       "</div>"
      ],
      "text/plain": [
       "   No                                            Kalimat          Aspek  \\\n",
       "0   1  Pengajar memiliki kompetensi memberikan perhat...  Kualitas Guru   \n",
       "1   2  Pengalaman guru masih perlu ditingkatkan. Meng...  Kualitas Guru   \n",
       "2   3  Beberapa guru masih perlu ditingkatkan. Mengur...  Kualitas Guru   \n",
       "\n",
       "  Sentimen  \n",
       "0  Positif  \n",
       "1  Negatif  \n",
       "2  Negatif  "
      ]
     },
     "metadata": {},
     "output_type": "display_data"
    },
    {
     "name": "stdout",
     "output_type": "stream",
     "text": [
      "\n",
      "Distribusi Sentimen:\n",
      "Sentimen\n",
      "Positif    108\n",
      "Negatif    108\n",
      "Netral     108\n",
      "Name: count, dtype: int64\n"
     ]
    }
   ],
   "source": [
    "\n",
    "# Load dataset\n",
    "df = pd.read_excel(\"2000_Kalimat_Kinerja_Pesantren_Unik.xlsx\")\n",
    "print(\"Contoh data:\")\n",
    "display(df.head(3))\n",
    "\n",
    "# Cek distribusi label\n",
    "print(\"\\nDistribusi Sentimen:\")\n",
    "print(df['Sentimen'].value_counts())\n"
   ]
  },
  {
   "cell_type": "code",
   "execution_count": 54,
   "id": "99c3eb52",
   "metadata": {},
   "outputs": [
    {
     "name": "stdout",
     "output_type": "stream",
     "text": [
      "Before: Pengajaran @ustadz sangat bagus! #puas\n",
      "After: ajar sangat bagus\n",
      "\n",
      "teks setelah cleaning:\n",
      "                                             Kalimat  \\\n",
      "0  Pengajar memiliki kompetensi memberikan perhat...   \n",
      "1  Pengalaman guru masih perlu ditingkatkan. Meng...   \n",
      "2  Beberapa guru masih perlu ditingkatkan. Mengur...   \n",
      "3  Prestasi santri meraih prestasi akademik dan n...   \n",
      "4  Proses belajar mengajar sangat efektif dan men...   \n",
      "\n",
      "                                        Cleaned_Text  \n",
      "0  ajar milik kompetensi beri perhati penuh santr...  \n",
      "1       alam guru perlu tingkat kurang kualitas ajar  \n",
      "2   beberapa guru perlu tingkat kurang kualitas ajar  \n",
      "3  prestasi santri raih prestasi akademik nonakad...  \n",
      "4  proses ajar ajar sangat efektif tarik ajar lan...  \n"
     ]
    }
   ],
   "source": [
    "# ## **Step 3: Text Preprocessing**\n",
    "# %%\n",
    "# Inisialisasi tools\n",
    "stopword_remover = StopWordRemoverFactory().create_stop_word_remover()\n",
    "stemmer = StemmerFactory().create_stemmer()\n",
    "\n",
    "def clean_text(text):\n",
    "    text = str(text)\n",
    "    # 1. Hapus URL/mention/hashtag\n",
    "    text = re.sub(r'http\\S+|www\\S+|@\\w+|#\\w+', '', text)\n",
    "    # 2. Hapus tanda baca\n",
    "    text = re.sub(r'[^\\w\\s]', ' ', text)\n",
    "    # 3. Case folding\n",
    "    text = text.lower().strip()\n",
    "    # 4. Stopword removal\n",
    "    text = stopword_remover.remove(text)\n",
    "    # 5. Stemming\n",
    "    text = stemmer.stem(text)\n",
    "    # 6. Hapus extra space\n",
    "    text = re.sub(r'\\s+', ' ', text)\n",
    "    return text\n",
    "\n",
    "# Contoh cleaning\n",
    "sample_text = \"Pengajaran @ustadz sangat bagus! #puas\"\n",
    "print(f\"Before: {sample_text}\")\n",
    "print(f\"After: {clean_text(sample_text)}\")\n",
    "\n",
    "# Apply ke seluruh data\n",
    "df['Cleaned_Text'] = df['Kalimat'].apply(clean_text)\n",
    "\n",
    "print(\"\\nteks setelah cleaning:\")\n",
    "print(data[[\"Kalimat\", \"Cleaned_Text\"]].head())"
   ]
  },
  {
   "cell_type": "code",
   "execution_count": 56,
   "id": "16f05394",
   "metadata": {},
   "outputs": [
    {
     "name": "stdout",
     "output_type": "stream",
     "text": [
      "Total lexicon: 9070\n",
      "Contoh lexicon:\n",
      "{'word': -2.0, 'hai': 2.0, 'merekam': 3.0, 'ekstensif': 1.0, 'paripurna': 2.0, 'detail': 3.0, 'pernik': 2.0, 'belas': -4.0, 'welas': -4.0, 'kabung': -3.0, 'rahayu': -1.0, 'maaf': -4.0, 'hello': 3.0, 'promo': 5.0, 'terimakasih': 3.0}\n"
     ]
    }
   ],
   "source": [
    "# ## **Step 4: Load & Process Lexicon**\n",
    "# %%\n",
    "def load_lexicon(filepath):\n",
    "    try:\n",
    "        # Coba berbagai format CSV/TSV\n",
    "        for sep in [',', ';', '\\t']:\n",
    "            try:\n",
    "                lex = pd.read_csv(filepath, sep=sep, header=None, names=[\"word\", \"weight\"])\n",
    "                lex['weight'] = pd.to_numeric(lex['weight'], errors='coerce')\n",
    "                return dict(zip(lex['word'].str.lower().str.strip(), lex['weight'].dropna()))\n",
    "            except:\n",
    "                continue\n",
    "        return {}\n",
    "    except Exception as e:\n",
    "        print(f\"Error loading {filepath}: {e}\")\n",
    "        return {}\n",
    "\n",
    "# Load lexicon\n",
    "pos_lex = load_lexicon(\"positive.csv\")\n",
    "neg_lex = load_lexicon(\"negative.csv\")\n",
    "lexicon = {**pos_lex, **neg_lex}\n",
    "\n",
    "# Verifikasi\n",
    "print(f\"Total lexicon: {len(lexicon)}\")\n",
    "print(\"Contoh lexicon:\")\n",
    "print({k: lexicon[k] for k in list(lexicon)[:15]})"
   ]
  },
  {
   "cell_type": "code",
   "execution_count": 57,
   "id": "82cd06c7",
   "metadata": {},
   "outputs": [],
   "source": [
    "# ## **Step 5: Feature Engineering**\n",
    "# %%\n",
    "# 1. Label Encoding\n",
    "sentiment_map = {\"Negatif\": 0, \"Netral\": 1, \"Positif\": 2}\n",
    "df['Label'] = df['Sentimen'].map(sentiment_map)\n",
    "\n",
    "# 2. Lexicon Feature\n",
    "def get_lexicon_score(text):\n",
    "    words = str(text).split()\n",
    "    return sum(lexicon.get(word, 0) for word in words)\n",
    "\n",
    "df['Lexicon_Score'] = df['Cleaned_Text'].apply(get_lexicon_score)\n",
    "\n",
    "# 3. Split Data\n",
    "X_train, X_test, y_train, y_test = train_test_split(\n",
    "    df['Cleaned_Text'], \n",
    "    df['Label'],\n",
    "    test_size=0.2,\n",
    "    stratify=df['Label'],\n",
    "    random_state=42\n",
    ")"
   ]
  },
  {
   "cell_type": "code",
   "execution_count": 58,
   "id": "18fe5392",
   "metadata": {},
   "outputs": [],
   "source": [
    "# ## **Step 6: Tokenisasi & Padding**\n",
    "# %%\n",
    "# Tokenizer\n",
    "tokenizer = Tokenizer(num_words=5000)\n",
    "tokenizer.fit_on_texts(X_train)\n",
    "\n",
    "# Sequence\n",
    "X_train_seq = tokenizer.texts_to_sequences(X_train)\n",
    "X_test_seq = tokenizer.texts_to_sequences(X_test)\n",
    "\n",
    "# Padding\n",
    "max_len = 100\n",
    "X_train_pad = pad_sequences(X_train_seq, maxlen=max_len)\n",
    "X_test_pad = pad_sequences(X_test_seq, maxlen=max_len)\n"
   ]
  },
  {
   "cell_type": "code",
   "execution_count": 59,
   "id": "01eb5b0b",
   "metadata": {},
   "outputs": [
    {
     "data": {
      "text/html": [
       "<pre style=\"white-space:pre;overflow-x:auto;line-height:normal;font-family:Menlo,'DejaVu Sans Mono',consolas,'Courier New',monospace\"><span style=\"font-weight: bold\">Model: \"sequential_3\"</span>\n",
       "</pre>\n"
      ],
      "text/plain": [
       "\u001b[1mModel: \"sequential_3\"\u001b[0m\n"
      ]
     },
     "metadata": {},
     "output_type": "display_data"
    },
    {
     "data": {
      "text/html": [
       "<pre style=\"white-space:pre;overflow-x:auto;line-height:normal;font-family:Menlo,'DejaVu Sans Mono',consolas,'Courier New',monospace\">┏━━━━━━━━━━━━━━━━━━━━━━━━━━━━━━━━━┳━━━━━━━━━━━━━━━━━━━━━━━━┳━━━━━━━━━━━━━━━┓\n",
       "┃<span style=\"font-weight: bold\"> Layer (type)                    </span>┃<span style=\"font-weight: bold\"> Output Shape           </span>┃<span style=\"font-weight: bold\">       Param # </span>┃\n",
       "┡━━━━━━━━━━━━━━━━━━━━━━━━━━━━━━━━━╇━━━━━━━━━━━━━━━━━━━━━━━━╇━━━━━━━━━━━━━━━┩\n",
       "│ embedding_3 (<span style=\"color: #0087ff; text-decoration-color: #0087ff\">Embedding</span>)         │ ?                      │   <span style=\"color: #00af00; text-decoration-color: #00af00\">0</span> (unbuilt) │\n",
       "├─────────────────────────────────┼────────────────────────┼───────────────┤\n",
       "│ spatial_dropout1d_3             │ ?                      │             <span style=\"color: #00af00; text-decoration-color: #00af00\">0</span> │\n",
       "│ (<span style=\"color: #0087ff; text-decoration-color: #0087ff\">SpatialDropout1D</span>)              │                        │               │\n",
       "├─────────────────────────────────┼────────────────────────┼───────────────┤\n",
       "│ simple_rnn (<span style=\"color: #0087ff; text-decoration-color: #0087ff\">SimpleRNN</span>)          │ ?                      │   <span style=\"color: #00af00; text-decoration-color: #00af00\">0</span> (unbuilt) │\n",
       "├─────────────────────────────────┼────────────────────────┼───────────────┤\n",
       "│ dense_3 (<span style=\"color: #0087ff; text-decoration-color: #0087ff\">Dense</span>)                 │ ?                      │   <span style=\"color: #00af00; text-decoration-color: #00af00\">0</span> (unbuilt) │\n",
       "└─────────────────────────────────┴────────────────────────┴───────────────┘\n",
       "</pre>\n"
      ],
      "text/plain": [
       "┏━━━━━━━━━━━━━━━━━━━━━━━━━━━━━━━━━┳━━━━━━━━━━━━━━━━━━━━━━━━┳━━━━━━━━━━━━━━━┓\n",
       "┃\u001b[1m \u001b[0m\u001b[1mLayer (type)                   \u001b[0m\u001b[1m \u001b[0m┃\u001b[1m \u001b[0m\u001b[1mOutput Shape          \u001b[0m\u001b[1m \u001b[0m┃\u001b[1m \u001b[0m\u001b[1m      Param #\u001b[0m\u001b[1m \u001b[0m┃\n",
       "┡━━━━━━━━━━━━━━━━━━━━━━━━━━━━━━━━━╇━━━━━━━━━━━━━━━━━━━━━━━━╇━━━━━━━━━━━━━━━┩\n",
       "│ embedding_3 (\u001b[38;5;33mEmbedding\u001b[0m)         │ ?                      │   \u001b[38;5;34m0\u001b[0m (unbuilt) │\n",
       "├─────────────────────────────────┼────────────────────────┼───────────────┤\n",
       "│ spatial_dropout1d_3             │ ?                      │             \u001b[38;5;34m0\u001b[0m │\n",
       "│ (\u001b[38;5;33mSpatialDropout1D\u001b[0m)              │                        │               │\n",
       "├─────────────────────────────────┼────────────────────────┼───────────────┤\n",
       "│ simple_rnn (\u001b[38;5;33mSimpleRNN\u001b[0m)          │ ?                      │   \u001b[38;5;34m0\u001b[0m (unbuilt) │\n",
       "├─────────────────────────────────┼────────────────────────┼───────────────┤\n",
       "│ dense_3 (\u001b[38;5;33mDense\u001b[0m)                 │ ?                      │   \u001b[38;5;34m0\u001b[0m (unbuilt) │\n",
       "└─────────────────────────────────┴────────────────────────┴───────────────┘\n"
      ]
     },
     "metadata": {},
     "output_type": "display_data"
    },
    {
     "data": {
      "text/html": [
       "<pre style=\"white-space:pre;overflow-x:auto;line-height:normal;font-family:Menlo,'DejaVu Sans Mono',consolas,'Courier New',monospace\"><span style=\"font-weight: bold\"> Total params: </span><span style=\"color: #00af00; text-decoration-color: #00af00\">0</span> (0.00 B)\n",
       "</pre>\n"
      ],
      "text/plain": [
       "\u001b[1m Total params: \u001b[0m\u001b[38;5;34m0\u001b[0m (0.00 B)\n"
      ]
     },
     "metadata": {},
     "output_type": "display_data"
    },
    {
     "data": {
      "text/html": [
       "<pre style=\"white-space:pre;overflow-x:auto;line-height:normal;font-family:Menlo,'DejaVu Sans Mono',consolas,'Courier New',monospace\"><span style=\"font-weight: bold\"> Trainable params: </span><span style=\"color: #00af00; text-decoration-color: #00af00\">0</span> (0.00 B)\n",
       "</pre>\n"
      ],
      "text/plain": [
       "\u001b[1m Trainable params: \u001b[0m\u001b[38;5;34m0\u001b[0m (0.00 B)\n"
      ]
     },
     "metadata": {},
     "output_type": "display_data"
    },
    {
     "data": {
      "text/html": [
       "<pre style=\"white-space:pre;overflow-x:auto;line-height:normal;font-family:Menlo,'DejaVu Sans Mono',consolas,'Courier New',monospace\"><span style=\"font-weight: bold\"> Non-trainable params: </span><span style=\"color: #00af00; text-decoration-color: #00af00\">0</span> (0.00 B)\n",
       "</pre>\n"
      ],
      "text/plain": [
       "\u001b[1m Non-trainable params: \u001b[0m\u001b[38;5;34m0\u001b[0m (0.00 B)\n"
      ]
     },
     "metadata": {},
     "output_type": "display_data"
    },
    {
     "name": "stdout",
     "output_type": "stream",
     "text": [
      "Epoch 1/15\n",
      "\u001b[1m5/5\u001b[0m \u001b[32m━━━━━━━━━━━━━━━━━━━━\u001b[0m\u001b[37m\u001b[0m \u001b[1m2s\u001b[0m 108ms/step - accuracy: 0.4350 - loss: 1.0850 - val_accuracy: 0.4923 - val_loss: 0.9414\n",
      "Epoch 2/15\n",
      "\u001b[1m5/5\u001b[0m \u001b[32m━━━━━━━━━━━━━━━━━━━━\u001b[0m\u001b[37m\u001b[0m \u001b[1m0s\u001b[0m 36ms/step - accuracy: 0.8196 - loss: 0.8281 - val_accuracy: 0.7692 - val_loss: 0.7700\n",
      "Epoch 3/15\n",
      "\u001b[1m5/5\u001b[0m \u001b[32m━━━━━━━━━━━━━━━━━━━━\u001b[0m\u001b[37m\u001b[0m \u001b[1m0s\u001b[0m 39ms/step - accuracy: 0.9345 - loss: 0.6213 - val_accuracy: 0.9385 - val_loss: 0.5692\n",
      "Epoch 4/15\n",
      "\u001b[1m5/5\u001b[0m \u001b[32m━━━━━━━━━━━━━━━━━━━━\u001b[0m\u001b[37m\u001b[0m \u001b[1m0s\u001b[0m 36ms/step - accuracy: 0.9751 - loss: 0.4315 - val_accuracy: 1.0000 - val_loss: 0.3941\n",
      "Epoch 5/15\n",
      "\u001b[1m5/5\u001b[0m \u001b[32m━━━━━━━━━━━━━━━━━━━━\u001b[0m\u001b[37m\u001b[0m \u001b[1m0s\u001b[0m 33ms/step - accuracy: 0.9905 - loss: 0.2773 - val_accuracy: 1.0000 - val_loss: 0.2940\n",
      "Epoch 6/15\n",
      "\u001b[1m5/5\u001b[0m \u001b[32m━━━━━━━━━━━━━━━━━━━━\u001b[0m\u001b[37m\u001b[0m \u001b[1m0s\u001b[0m 37ms/step - accuracy: 0.9924 - loss: 0.1868 - val_accuracy: 0.9846 - val_loss: 0.1865\n",
      "Epoch 7/15\n",
      "\u001b[1m5/5\u001b[0m \u001b[32m━━━━━━━━━━━━━━━━━━━━\u001b[0m\u001b[37m\u001b[0m \u001b[1m0s\u001b[0m 33ms/step - accuracy: 0.9847 - loss: 0.1615 - val_accuracy: 0.9846 - val_loss: 0.1375\n",
      "Epoch 8/15\n",
      "\u001b[1m5/5\u001b[0m \u001b[32m━━━━━━━━━━━━━━━━━━━━\u001b[0m\u001b[37m\u001b[0m \u001b[1m0s\u001b[0m 33ms/step - accuracy: 0.9905 - loss: 0.0923 - val_accuracy: 1.0000 - val_loss: 0.1053\n",
      "Epoch 9/15\n",
      "\u001b[1m5/5\u001b[0m \u001b[32m━━━━━━━━━━━━━━━━━━━━\u001b[0m\u001b[37m\u001b[0m \u001b[1m0s\u001b[0m 34ms/step - accuracy: 1.0000 - loss: 0.0660 - val_accuracy: 1.0000 - val_loss: 0.1049\n",
      "Epoch 10/15\n",
      "\u001b[1m5/5\u001b[0m \u001b[32m━━━━━━━━━━━━━━━━━━━━\u001b[0m\u001b[37m\u001b[0m \u001b[1m0s\u001b[0m 36ms/step - accuracy: 1.0000 - loss: 0.0561 - val_accuracy: 1.0000 - val_loss: 0.0662\n",
      "Epoch 11/15\n",
      "\u001b[1m5/5\u001b[0m \u001b[32m━━━━━━━━━━━━━━━━━━━━\u001b[0m\u001b[37m\u001b[0m \u001b[1m0s\u001b[0m 33ms/step - accuracy: 1.0000 - loss: 0.0458 - val_accuracy: 1.0000 - val_loss: 0.0603\n",
      "Epoch 12/15\n",
      "\u001b[1m5/5\u001b[0m \u001b[32m━━━━━━━━━━━━━━━━━━━━\u001b[0m\u001b[37m\u001b[0m \u001b[1m0s\u001b[0m 31ms/step - accuracy: 1.0000 - loss: 0.0314 - val_accuracy: 1.0000 - val_loss: 0.0498\n",
      "Epoch 13/15\n",
      "\u001b[1m5/5\u001b[0m \u001b[32m━━━━━━━━━━━━━━━━━━━━\u001b[0m\u001b[37m\u001b[0m \u001b[1m0s\u001b[0m 33ms/step - accuracy: 1.0000 - loss: 0.0257 - val_accuracy: 1.0000 - val_loss: 0.0366\n",
      "Epoch 14/15\n",
      "\u001b[1m5/5\u001b[0m \u001b[32m━━━━━━━━━━━━━━━━━━━━\u001b[0m\u001b[37m\u001b[0m \u001b[1m0s\u001b[0m 34ms/step - accuracy: 1.0000 - loss: 0.0223 - val_accuracy: 1.0000 - val_loss: 0.0262\n",
      "Epoch 15/15\n",
      "\u001b[1m5/5\u001b[0m \u001b[32m━━━━━━━━━━━━━━━━━━━━\u001b[0m\u001b[37m\u001b[0m \u001b[1m0s\u001b[0m 37ms/step - accuracy: 1.0000 - loss: 0.0137 - val_accuracy: 1.0000 - val_loss: 0.0226\n"
     ]
    }
   ],
   "source": [
    "# ## **Step 7: Build RNN Model**\n",
    "# %%\n",
    "model = Sequential([\n",
    "    Embedding(input_dim=5000, output_dim=128, input_length=max_len),\n",
    "    SpatialDropout1D(0.3),\n",
    "    SimpleRNN(128, dropout=0.2, return_sequences=False),\n",
    "    Dense(3, activation='softmax')\n",
    "])\n",
    "\n",
    "model.compile(\n",
    "    optimizer='adam',\n",
    "    loss='sparse_categorical_crossentropy',\n",
    "    metrics=['accuracy']\n",
    ")\n",
    "\n",
    "model.summary()\n",
    "\n",
    "# %% [markdown]\n",
    "# ## **Step 8: Training**\n",
    "# %%\n",
    "history = model.fit(\n",
    "    X_train_pad, y_train,\n",
    "    epochs=15,\n",
    "    batch_size=64,\n",
    "    validation_data=(X_test_pad, y_test),\n",
    "    callbacks=[EarlyStopping(patience=3, restore_best_weights=True)]\n",
    ")"
   ]
  },
  {
   "cell_type": "code",
   "execution_count": 64,
   "id": "cb339f94",
   "metadata": {},
   "outputs": [
    {
     "name": "stdout",
     "output_type": "stream",
     "text": [
      "\u001b[1m3/3\u001b[0m \u001b[32m━━━━━━━━━━━━━━━━━━━━\u001b[0m\u001b[37m\u001b[0m \u001b[1m0s\u001b[0m 6ms/step \n",
      "              precision    recall  f1-score   support\n",
      "\n",
      "     Negatif       1.00      1.00      1.00        21\n",
      "      Netral       1.00      1.00      1.00        22\n",
      "     Positif       1.00      1.00      1.00        22\n",
      "\n",
      "    accuracy                           1.00        65\n",
      "   macro avg       1.00      1.00      1.00        65\n",
      "weighted avg       1.00      1.00      1.00        65\n",
      "\n"
     ]
    },
    {
     "data": {
      "image/png": "[encoded data removed]",
      "text/plain": [
       "<Figure size 800x600 with 2 Axes>"
      ]
     },
     "metadata": {},
     "output_type": "display_data"
    }
   ],
   "source": [
    "# ## **Step 9: Evaluation**\n",
    "# %%\n",
    "# 1. Predictions\n",
    "y_pred = np.argmax(model.predict(X_test_pad), axis=1)\n",
    "\n",
    "# 2. Classification Report\n",
    "print(classification_report(y_test, y_pred, target_names=sentiment_map.keys()))\n",
    "\n",
    "# 3. Confusion Matrix\n",
    "plt.figure(figsize=(8,6))\n",
    "sns.heatmap(confusion_matrix(y_test, y_pred), \n",
    "            annot=True, fmt='d', cmap='Blues',\n",
    "            xticklabels=sentiment_map.keys(),\n",
    "            yticklabels=sentiment_map.keys())\n",
    "plt.title('Confusion Matrix')\n",
    "plt.show()"
   ]
  },
  {
   "cell_type": "code",
   "execution_count": 62,
   "id": "d564f8d9",
   "metadata": {},
   "outputs": [
    {
     "data": {
      "image/png": "[encoded data removed]",
      "text/plain": [
       "<Figure size 1200x500 with 2 Axes>"
      ]
     },
     "metadata": {},
     "output_type": "display_data"
    }
   ],
   "source": [
    "# 4. Training History\n",
    "plt.figure(figsize=(12,5))\n",
    "plt.subplot(1,2,1)\n",
    "plt.plot(history.history['accuracy'], label='Train Accuracy')\n",
    "plt.plot(history.history['val_accuracy'], label='Val Accuracy')\n",
    "plt.legend()\n",
    "plt.subplot(1,2,2)\n",
    "plt.plot(history.history['loss'], label='Train Loss')\n",
    "plt.plot(history.history['val_loss'], label='Val Loss')\n",
    "plt.legend()\n",
    "plt.show()\n"
   ]
  },
  {
   "cell_type": "code",
   "execution_count": 63,
   "id": "6e205a6d",
   "metadata": {},
   "outputs": [
    {
     "data": {
      "text/html": [
       "<div>\n",
       "<style scoped>\n",
       "    .dataframe tbody tr th:only-of-type {\n",
       "        vertical-align: middle;\n",
       "    }\n",
       "\n",
       "    .dataframe tbody tr th {\n",
       "        vertical-align: top;\n",
       "    }\n",
       "\n",
       "    .dataframe thead th {\n",
       "        text-align: right;\n",
       "    }\n",
       "</style>\n",
       "<table border=\"1\" class=\"dataframe\">\n",
       "  <thead>\n",
       "    <tr style=\"text-align: right;\">\n",
       "      <th></th>\n",
       "      <th>text</th>\n",
       "      <th>cleaned</th>\n",
       "      <th>sentimen</th>\n",
       "      <th>confidence</th>\n",
       "      <th>lexicon_score</th>\n",
       "      <th>final_score</th>\n",
       "    </tr>\n",
       "  </thead>\n",
       "  <tbody>\n",
       "    <tr>\n",
       "      <th>0</th>\n",
       "      <td>Pengajaran ustadz sangat memuaskan</td>\n",
       "      <td>ajar ustadz sangat muas</td>\n",
       "      <td>Netral</td>\n",
       "      <td>71.21</td>\n",
       "      <td>-3.0</td>\n",
       "      <td>0.20</td>\n",
       "    </tr>\n",
       "    <tr>\n",
       "      <th>1</th>\n",
       "      <td>Fasilitas asrama kurang bersih</td>\n",
       "      <td>fasilitas asrama kurang bersih</td>\n",
       "      <td>Negatif</td>\n",
       "      <td>42.51</td>\n",
       "      <td>-3.0</td>\n",
       "      <td>-0.00</td>\n",
       "    </tr>\n",
       "    <tr>\n",
       "      <th>2</th>\n",
       "      <td>Saya netral saja dengan pelatihan ini</td>\n",
       "      <td>netral dengan latih</td>\n",
       "      <td>Negatif</td>\n",
       "      <td>74.66</td>\n",
       "      <td>-4.0</td>\n",
       "      <td>0.22</td>\n",
       "    </tr>\n",
       "  </tbody>\n",
       "</table>\n",
       "</div>"
      ],
      "text/plain": [
       "                                    text                         cleaned  \\\n",
       "0     Pengajaran ustadz sangat memuaskan         ajar ustadz sangat muas   \n",
       "1         Fasilitas asrama kurang bersih  fasilitas asrama kurang bersih   \n",
       "2  Saya netral saja dengan pelatihan ini             netral dengan latih   \n",
       "\n",
       "  sentimen  confidence  lexicon_score  final_score  \n",
       "0   Netral       71.21           -3.0         0.20  \n",
       "1  Negatif       42.51           -3.0        -0.00  \n",
       "2  Negatif       74.66           -4.0         0.22  "
      ]
     },
     "metadata": {},
     "output_type": "display_data"
    }
   ],
   "source": [
    " ## **Step 10: Prediction Demo**\n",
    "# %%\n",
    "def predict_sentiment(text):\n",
    "    # Preprocess\n",
    "    cleaned = clean_text(text)\n",
    "    seq = tokenizer.texts_to_sequences([cleaned])\n",
    "    padded = pad_sequences(seq, maxlen=max_len)\n",
    "    \n",
    "    # Predict\n",
    "    proba = model.predict(padded, verbose=0)[0]\n",
    "    pred = np.argmax(proba)\n",
    "    \n",
    "    # Lexicon score\n",
    "    lex_score = get_lexicon_score(cleaned)\n",
    "    \n",
    "    return {\n",
    "        'text': text,\n",
    "        'cleaned': cleaned,\n",
    "        'sentimen': list(sentiment_map.keys())[pred],\n",
    "        'confidence': round(proba[pred]*100, 2),\n",
    "        'lexicon_score': lex_score,\n",
    "        'final_score': round(0.7*proba[pred] + 0.3*(1 if lex_score > 0 else (-1 if lex_score < 0 else 0)), 2)\n",
    "    }\n",
    "\n",
    "# Test\n",
    "test_texts = [\n",
    "    \"Pengajaran ustadz sangat memuaskan\",\n",
    "    \"Fasilitas asrama kurang bersih\",\n",
    "    \"Saya netral saja dengan pelatihan ini\"\n",
    "]\n",
    "\n",
    "results = [predict_sentiment(text) for text in test_texts]\n",
    "result_df = pd.DataFrame(results)\n",
    "display(result_df)"
   ]
  }
 ],
 "metadata": {
  "kernelspec": {
   "display_name": "coba",
   "language": "python",
   "name": "python3"
  },
  "language_info": {
   "codemirror_mode": {
    "name": "ipython",
    "version": 3
   },
   "file_extension": ".py",
   "mimetype": "text/x-python",
   "name": "python",
   "nbconvert_exporter": "python",
   "pygments_lexer": "ipython3",
   "version": "3.11.0"
  }
 },
 "nbformat": 4,
 "nbformat_minor": 5
}

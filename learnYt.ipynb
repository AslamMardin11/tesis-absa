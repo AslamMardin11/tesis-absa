{
 "cells": [
  {
   "cell_type": "code",
   "execution_count": 106,
   "id": "ce68ce1c",
   "metadata": {},
   "outputs": [
    {
     "name": "stdout",
     "output_type": "stream",
     "text": [
      "0: Microsoft David Desktop - English (United States) - HKEY_LOCAL_MACHINE\\SOFTWARE\\Microsoft\\Speech\\Voices\\Tokens\\TTS_MS_EN-US_DAVID_11.0\n",
      "1: Microsoft Zira Desktop - English (United States) - HKEY_LOCAL_MACHINE\\SOFTWARE\\Microsoft\\Speech\\Voices\\Tokens\\TTS_MS_EN-US_ZIRA_11.0\n"
     ]
    }
   ],
   "source": [
    "import pyttsx3\n",
    "\n",
    "engine = pyttsx3.init()\n",
    "\n",
    "# Lihat daftar suara yang tersedia\n",
    "voices = engine.getProperty('voices')\n",
    "for index, voice in enumerate(voices):\n",
    "    print(f\"{index}: {voice.name} - {voice.id}\")\n",
    "\n",
    "# Pilih suara (misal: suara ke-1)\n",
    "engine.setProperty('voice', voices[1].id)\n",
    "\n",
    "engine.say(\"Ini adalah suara yang berbeda.\")\n",
    "engine.runAndWait()\n"
   ]
  }
 ],
 "metadata": {
  "kernelspec": {
   "display_name": "coba",
   "language": "python",
   "name": "python3"
  },
  "language_info": {
   "codemirror_mode": {
    "name": "ipython",
    "version": 3
   },
   "file_extension": ".py",
   "mimetype": "text/x-python",
   "name": "python",
   "nbconvert_exporter": "python",
   "pygments_lexer": "ipython3",
   "version": "3.11.0"
  }
 },
 "nbformat": 4,
 "nbformat_minor": 5
}
